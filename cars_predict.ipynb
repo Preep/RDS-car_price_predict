{
 "cells": [
  {
   "cell_type": "code",
   "execution_count": 1,
   "metadata": {},
   "outputs": [],
   "source": [
    "import pandas as pd\n",
    "import numpy as np\n",
    "\n",
    "test = pd.read_csv('test.csv')\n",
    "autoru = pd.read_csv('autoru_cleared.csv')\n",
    "%matplotlib inline"
   ]
  },
  {
   "cell_type": "code",
   "execution_count": 2,
   "metadata": {},
   "outputs": [],
   "source": [
    "color_dict = {\n",
    "    'чёрный': 'black',\n",
    "    'белый': 'white',\n",
    "    'серый': 'gray',\n",
    "    'серебристый': 'silver',\n",
    "    'синий': 'blue',\n",
    "    'коричневый': 'gray',\n",
    "    'красный': 'red',\n",
    "    'зелёный': 'green',\n",
    "    'бежевый': 'brown',\n",
    "    'голубой': 'blue',\n",
    "    'пурпурный': 'red',\n",
    "    'золотистый': 'other',\n",
    "    'фиолетовый': 'violet',\n",
    "    'жёлтый': 'yellow',\n",
    "    'оранжевый': 'orange',\n",
    "    'розовый': 'other',\n",
    "    'other': 'other'\n",
    "}\n",
    "fuel_dict = {\n",
    "    'gasoline': 'бензин',\n",
    "    'diesel': 'дизель',\n",
    "    'gas': 'газ',\n",
    "    'hybrid-petrol': 'гибрид',\n",
    "    'electric': 'электро',\n",
    "    'hybrid-diesel': 'гибрид'\n",
    "}\n",
    "body_dict = {\n",
    "    'внедорожник 5 дв.': 'suv',\n",
    "    'седан': 'sedan',\n",
    "    'лифтбек': 'liftback',\n",
    "    'хэтчбек 5 дв.': 'hatchback',\n",
    "    'универсал 5 дв.': 'universal',\n",
    "    'универсал 3 дв.': 'universal',\n",
    "    'минивэн': 'minivan',\n",
    "    'купе': 'coupe',\n",
    "    'компактвэн': 'minivan',\n",
    "    'хэтчбек 3 дв.': 'hatchback',\n",
    "    'пикап двойная кабина': 'pickup',\n",
    "    'внедорожник 3 дв.': 'suv',\n",
    "    'купе-хардтоп': 'coupe',\n",
    "    'кабриолет': 'cabriolet',\n",
    "    'фургон': 'van',\n",
    "    'родстер': 'coupe',\n",
    "    'микровэн': 'minivan',\n",
    "    'седан-хардтоп': 'sedan',\n",
    "    'пикап одинарная кабина': 'pickup',\n",
    "    'пикап полуторная кабина': 'pickup',\n",
    "    'внедорожник открытый': 'suv',\n",
    "    'лимузин': 'limousine',\n",
    "    'тарга': 'cabriolet',\n",
    "    'седан 2 дв.': 'coupe',\n",
    "    'фастбек': 'hatchback',\n",
    "    'хэтчбек 4 дв.': 'hatchback',\n",
    "    'фаэтон': 'cabriolet'\n",
    "    \n",
    "}\n",
    "transmission_dict = {\n",
    "    'автоматическая': 'automatic',\n",
    "    'автомат': 'automatic',\n",
    "    'механическая': 'mechanical',\n",
    "    'механика': 'mechanical',\n",
    "    'роботизированная': 'robot',\n",
    "    'робот': 'robot',\n",
    "    'вариатор': 'variator'\n",
    "}\n",
    "drivetrain_dict = {\n",
    "    'полный': 'all',\n",
    "    'передний': 'front',\n",
    "    'задний': 'rear'\n",
    "}"
   ]
  },
  {
   "cell_type": "code",
   "execution_count": 3,
   "metadata": {},
   "outputs": [],
   "source": [
    "def clear_eng_power(hp):\n",
    "    capacity = str(hp).split()[0]\n",
    "    if capacity == 'undefined':\n",
    "        return 2.0\n",
    "    return float(capacity)\n",
    "\n",
    "def eval_features(feature_string):\n",
    "    feature_count = 0\n",
    "    if len(feature_string) > 5:\n",
    "        for i in eval(feature_string[2:-2]):\n",
    "            feature_count += len(i['values'])\n",
    "        return feature_count\n",
    "    else:\n",
    "        return 0\n",
    "\n",
    "test['color'] = test['color'].apply(lambda x:color_dict[x])\n",
    "test['vehicleTransmission'] = test['vehicleTransmission'].apply(lambda x:transmission_dict[x])\n",
    "test['Привод'] = test['Привод'].apply(lambda x:drivetrain_dict[x])\n",
    "test['productionDate'] = test['productionDate'].apply(lambda x:int(x))\n",
    "test['mileage'] = test['mileage'].apply(lambda x:int(x))\n",
    "test['enginePower'] = test['enginePower'].apply(clear_eng_power)\n",
    "test['engineDisplacement'] = test['engineDisplacement'].apply(clear_eng_power)\n",
    "test['features_count'] = (test['Комплектация'].apply(eval_features)//8).apply(lambda x: x if x<10 else 9)\n",
    "\n",
    "test = test.rename(columns={'bodyType': 'body_type',\n",
    "                            'brand': 'manufacturer_name',\n",
    "                            'mileage': 'odometer_value',\n",
    "                            'vehicleTransmission': 'transmission',\n",
    "                            'productionDate': 'year_produced',\n",
    "                            'fuelType': 'engine_fuel',\n",
    "                            'engineDisplacement': 'engine_capacity',\n",
    "                            'enginePower': 'engine_power',\n",
    "                            'Привод': 'drivetrain'\n",
    "})\n",
    "test['year_produced'] = test['year_produced'] - (1938+39)\n",
    "autoru['year_produced'] = autoru['year_produced'] - 39"
   ]
  },
  {
   "cell_type": "code",
   "execution_count": 4,
   "metadata": {},
   "outputs": [],
   "source": [
    "autoru = autoru[autoru['manufacturer_name'].isin(test['manufacturer_name'])]\n",
    "\n",
    "autoru['power_per_volume'] = autoru['engine_power']/autoru['engine_capacity']\n",
    "test['power_per_volume'] = test['engine_power']/test['engine_capacity']\n",
    "\n",
    "autoru = autoru[autoru['engine_capacity'] < 7]\n",
    "autoru = autoru[autoru['odometer_value'] > 0]\n",
    "\n",
    "autoru['model_name'] = autoru['Name'].str.findall(pat='\\d\\S+[dixs]').apply(lambda x: ''.join(x[0]) if len(x)>0 else 'other')\n",
    "test['model_name'] = test['name'].str.findall(pat='\\d\\S+[dixs]').apply(lambda x: ''.join(x[0]) if len(x)>0 else 'other')\n",
    "\n",
    "autoru['xdrive'] = autoru['Name'].str.contains(pat='xDrive')\n",
    "test['xdrive'] = test['name'].str.contains(pat='xDrive')"
   ]
  },
  {
   "cell_type": "code",
   "execution_count": 5,
   "metadata": {},
   "outputs": [],
   "source": [
    "def calculate_tax(power):\n",
    "    tax_dict ={\n",
    "        '100': 2.5,\n",
    "        '150': 3.5,\n",
    "        '200': 5,\n",
    "        '250': 7.5,\n",
    "        'max': 15\n",
    "    }\n",
    "    key = ''\n",
    "    \n",
    "    if power <= 100:\n",
    "        key = '100'\n",
    "    elif power <= 150:\n",
    "        key = '150'\n",
    "    elif power <= 200:\n",
    "        key = '200'\n",
    "    elif power <= 250:\n",
    "        key = '250'\n",
    "    else:\n",
    "        key = 'max'\n",
    "    \n",
    "    return power*tax_dict[key]\n",
    "                    \n",
    "        \n",
    "autoru['tax'] = autoru['engine_power'].apply(calculate_tax)\n",
    "test['tax'] = test['engine_power'].apply(calculate_tax)"
   ]
  },
  {
   "cell_type": "code",
   "execution_count": 6,
   "metadata": {},
   "outputs": [],
   "source": [
    "autoru['engine_capacity'] = (autoru['engine_capacity']*10).astype('int32')\n",
    "test['engine_capacity'] = (test['engine_capacity']*10).astype('int32')\n",
    "\n",
    "autoru['odometer_value'] = (autoru['odometer_value']//10000).astype('int32')\n",
    "test['odometer_value'] = (test['odometer_value']//10000).astype('int32')\n",
    "\n",
    "autoru['engine_power'] = (autoru['engine_power']).astype('int32')\n",
    "test['engine_power'] = (test['engine_power']).astype('int32')"
   ]
  },
  {
   "cell_type": "code",
   "execution_count": 7,
   "metadata": {},
   "outputs": [],
   "source": [
    "import numpy as np\n",
    "\n",
    "cat_features = ['body_type',#0\n",
    "                'transmission',#1\n",
    "                'engine_fuel',#2\n",
    "                'color',#3\n",
    "                'drivetrain',#4\n",
    "                'model_name',#5\n",
    "                'xdrive',#6\n",
    "                'year_produced',#7\n",
    "\n",
    "\n",
    "]\n",
    "\n",
    "\n",
    "num_features = ['engine_capacity', #8\n",
    "                'engine_power',#9\n",
    "                'odometer_value',#10\n",
    "                'power_per_volume',#11\n",
    "                'tax'#12\n",
    "    \n",
    "]\n",
    "\n",
    "autoru = autoru[cat_features+num_features+['price']]\n",
    "test_original = test.copy()\n",
    "test = test[cat_features+num_features]"
   ]
  },
  {
   "cell_type": "code",
   "execution_count": 8,
   "metadata": {},
   "outputs": [
    {
     "data": {
      "text/plain": [
       "27814"
      ]
     },
     "execution_count": 8,
     "metadata": {},
     "output_type": "execute_result"
    }
   ],
   "source": [
    "for feature in cat_features:\n",
    "    values_to_drop = set(autoru[feature].unique())-set(test[feature].unique())\n",
    "    autoru = autoru[~autoru[feature].isin(values_to_drop)]\n",
    "    autoru[feature] = autoru[feature].astype('category')\n",
    "    test[feature] = test[feature].astype('category')\n",
    "len(autoru)"
   ]
  },
  {
   "cell_type": "code",
   "execution_count": 9,
   "metadata": {},
   "outputs": [],
   "source": [
    "odometer_handicup = test_original['ПТС'].apply(lambda x: 0 if x=='Оригинал' else 3)\n",
    "test['odometer_value'] += odometer_handicup"
   ]
  },
  {
   "cell_type": "code",
   "execution_count": 10,
   "metadata": {},
   "outputs": [],
   "source": [
    "from sklearn.metrics import mean_absolute_error\n",
    "from sklearn.model_selection import train_test_split\n",
    "\n",
    "def mape(y_true, y_pred):\n",
    "    return np.mean(np.abs((y_pred-y_true)/y_true))\n",
    "\n",
    "\n",
    "X = autoru.drop(['price'], axis=1)\n",
    "y = (autoru['price']**0.5)\n",
    "\n",
    "X_train, X_test, y_train, y_test = train_test_split(X, y, test_size=0.33, shuffle=True)"
   ]
  },
  {
   "cell_type": "code",
   "execution_count": null,
   "metadata": {},
   "outputs": [],
   "source": [
    "ITERATIONS   = 1000\n",
    "LR           = 0.12\n",
    "CAT_FEATURES = [0,1,2,3,4,5,6,7]\n",
    "\n",
    "from catboost import CatBoostRegressor\n",
    "model = CatBoostRegressor(iterations = ITERATIONS,\n",
    "                          learning_rate = LR,\n",
    "                          eval_metric = 'MAPE',\n",
    "                          custom_metric = ['R2', 'MAE'],\n",
    "                          early_stopping_rounds = 500\n",
    "                         )\n",
    "\n",
    "model.fit(X, y,\n",
    "            cat_features=CAT_FEATURES,\n",
    "            eval_set=(X_test, y_test),\n",
    "            verbose_eval=500,\n",
    "            use_best_model=True,\n",
    "            plot=True\n",
    "            )\n",
    "print(mape(autoru['price'], model.predict(X)**2))\n",
    "print(mean_absolute_error(autoru['price'], model.predict(X)**2))\n",
    "\n",
    "pred = model.predict(test)\n",
    "sample_submission = pd.DataFrame()\n",
    "sample_submission['price'] = pred\n",
    "sample_submission['price'] = (sample_submission['price']**2) #REVERT SQRT\n",
    "sample_submission = sample_submission.reset_index().rename(columns={'index': 'id'})\n",
    "sample_submission.to_csv(f'submission_v1.csv', index=False)"
   ]
  },
  {
   "cell_type": "code",
   "execution_count": null,
   "metadata": {},
   "outputs": [],
   "source": [
    "CAT_FEATURES = [0,1,2,3,4,5,6,7,8]"
   ]
  },
  {
   "cell_type": "code",
   "execution_count": 13,
   "metadata": {},
   "outputs": [
    {
     "name": "stdout",
     "output_type": "stream",
     "text": [
      "1 Fold Test MAPE: 0.0527\n",
      "2 Fold Test MAPE: 0.0538\n",
      "3 Fold Test MAPE: 0.0521\n",
      "4 Fold Test MAPE: 0.0536\n",
      "5 Fold Test MAPE: 0.0524\n",
      "6 Fold Test MAPE: 0.0539\n",
      "7 Fold Test MAPE: 0.0505\n",
      "Mean Score: 0.0527\n",
      "Std Score: 0.0011\n",
      "Max Score: 0.0539\n",
      "Min Score: 0.0505\n"
     ]
    },
    {
     "data": {
      "text/plain": [
       "<matplotlib.axes._subplots.AxesSubplot at 0x11c8b0fda20>"
      ]
     },
     "execution_count": 13,
     "metadata": {},
     "output_type": "execute_result"
    },
    {
     "data": {
      "image/png": "[encoded data removed]",
      "text/plain": [
       "<Figure size 432x288 with 1 Axes>"
      ]
     },
     "metadata": {
      "needs_background": "light"
     },
     "output_type": "display_data"
    }
   ],
   "source": [
    "N_FOLDS      = 7\n",
    "ITERATIONS   = 1200\n",
    "LR           = 0.1\n",
    "CAT_FEATURES = [0,1,2,3,4,5,6,7]\n",
    "\n",
    "from catboost import CatBoostRegressor\n",
    "from sklearn.model_selection import KFold\n",
    "\n",
    "def cat_model(y_train, X_train, X_test, y_test):\n",
    "    model = CatBoostRegressor(iterations = ITERATIONS,\n",
    "                              learning_rate = LR,\n",
    "                              eval_metric='MAPE',\n",
    "                             )\n",
    "    model.fit(X_train, y_train,\n",
    "              cat_features=CAT_FEATURES,\n",
    "              eval_set=(X_test, y_test),\n",
    "              verbose=False,\n",
    "              use_best_model=True,\n",
    "              plot=False\n",
    "             )    \n",
    "    return(model)\n",
    "\n",
    "submissions = pd.DataFrame()\n",
    "score_ls = []\n",
    "splits = list(KFold(n_splits=N_FOLDS, shuffle=True).split(X, y))\n",
    "\n",
    "\n",
    "X = autoru.drop(['price'], axis=1)\n",
    "y = (autoru['price']**0.5).values\n",
    "for idx, (train_idx, test_idx) in enumerate(splits):\n",
    "    \n",
    "    X_train, y_train, X_test, y_test = X.iloc[train_idx], y[train_idx], X.iloc[test_idx], y[test_idx]\n",
    "    model = cat_model(y_train, X_train, X_test, y_test)\n",
    "    \n",
    "    test_predict = model.predict(X_test)\n",
    "    test_score = mape(y_test, test_predict)\n",
    "    score_ls.append(test_score)\n",
    "    submissions[f'sub_{idx+1}'] = model.predict(test)\n",
    "    \n",
    "    print(f\"{idx+1} Fold Test MAPE: {mape(y_test, test_predict):0.4f}\")\n",
    "\n",
    "print(f'Mean Score: {(np.mean(score_ls)):0.4f}')\n",
    "print(f'Std Score: {(np.std(score_ls)):0.4f}')\n",
    "print(f'Max Score: {(np.max(score_ls)):0.4f}')\n",
    "print(f'Min Score: {(np.min(score_ls)):0.4f}')\n",
    "\n",
    "sample_submission = pd.DataFrame()\n",
    "submissions['blend'] = (submissions.sum(axis=1))/len(submissions.columns)\n",
    "sample_submission['price'] = (submissions['blend'].values)**2 #REVERT SQRT\n",
    "sample_submission = sample_submission.reset_index().rename(columns={'index': 'id'})\n",
    "sample_submission.to_csv('submission_blend_v1.csv', index=False)\n",
    "sample_submission['price'].hist(bins=50)"
   ]
  },
  {
   "cell_type": "code",
   "execution_count": null,
   "metadata": {},
   "outputs": [],
   "source": []
  }
 ],
 "metadata": {
  "kernelspec": {
   "display_name": "Python 3",
   "language": "python",
   "name": "python3"
  },
  "language_info": {
   "codemirror_mode": {
    "name": "ipython",
    "version": 3
   },
   "file_extension": ".py",
   "mimetype": "text/x-python",
   "name": "python",
   "nbconvert_exporter": "python",
   "pygments_lexer": "ipython3",
   "version": "3.7.3"
  }
 },
 "nbformat": 4,
 "nbformat_minor": 4
}
